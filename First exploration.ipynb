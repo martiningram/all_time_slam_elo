{
 "cells": [
  {
   "cell_type": "code",
   "execution_count": 1,
   "metadata": {},
   "outputs": [],
   "source": [
    "import pandas as pd\n",
    "from data_utils import load_csvs, add_derived_fields"
   ]
  },
  {
   "cell_type": "code",
   "execution_count": 2,
   "metadata": {},
   "outputs": [
    {
     "name": "stderr",
     "output_type": "stream",
     "text": [
      "/home/martin/miniconda3/envs/jax/lib/python3.7/site-packages/IPython/core/interactiveshell.py:3417: DtypeWarning: Columns (5) have mixed types.Specify dtype option on import or set low_memory=False.\n",
      "  exec(code_obj, self.user_global_ns, self.user_ns)\n"
     ]
    }
   ],
   "source": [
    "lookup = load_csvs('./wikidraws/csv/')"
   ]
  },
  {
   "cell_type": "code",
   "execution_count": 3,
   "metadata": {},
   "outputs": [],
   "source": [
    "tourney_dfs = {x: y for x, y in lookup.items() if x in ['wimbledon', 'frenchopen', 'usopen', 'ausopen']}"
   ]
  },
  {
   "cell_type": "code",
   "execution_count": 8,
   "metadata": {},
   "outputs": [
    {
     "name": "stderr",
     "output_type": "stream",
     "text": [
      "/home/martin/projects/all_time_elo/data_utils.py:56: SettingWithCopyWarning: \n",
      "A value is trying to be set on a copy of a slice from a DataFrame.\n",
      "Try using .loc[row_indexer,col_indexer] = value instead\n",
      "\n",
      "See the caveats in the documentation: https://pandas.pydata.org/pandas-docs/stable/user_guide/indexing.html#returning-a-view-versus-a-copy\n",
      "  tourney_df[\"round_number\"] = tourney_df[\"round\"].replace(round_ordering).astype(int)\n"
     ]
    }
   ],
   "source": [
    "for cur_tourney, cur_df in tourney_dfs.items():\n",
    "    \n",
    "    cur_df['tourney_name'] = cur_tourney\n",
    "    tourney_dfs[cur_tourney] = add_derived_fields(cur_df)"
   ]
  },
  {
   "cell_type": "code",
   "execution_count": 9,
   "metadata": {},
   "outputs": [
    {
     "name": "stdout",
     "output_type": "stream",
     "text": [
      "frenchopen\n",
      "    set        round  match       player  gameswon incomplete  \\\n",
      "70    1  first round      1  Cyril Eames       6.0      False   \n",
      "71    2  first round      1  Cyril Eames       6.0      False   \n",
      "72    3  first round      1  Cyril Eames       6.0      False   \n",
      "73    4  first round      1  Cyril Eames       NaN      False   \n",
      "74    5  first round      1  Cyril Eames       NaN      False   \n",
      "\n",
      "                                                links  tiebreak tourney_name  \\\n",
      "70  https://en.wikipedia.org//wiki/1925_French_Cha...       NaN   frenchopen   \n",
      "71  https://en.wikipedia.org//wiki/1925_French_Cha...       NaN   frenchopen   \n",
      "72  https://en.wikipedia.org//wiki/1925_French_Cha...       NaN   frenchopen   \n",
      "73  https://en.wikipedia.org//wiki/1925_French_Cha...       NaN   frenchopen   \n",
      "74  https://en.wikipedia.org//wiki/1925_French_Cha...       NaN   frenchopen   \n",
      "\n",
      "    tour  year  round_number  \n",
      "70  Mens  1925             1  \n",
      "71  Mens  1925             1  \n",
      "72  Mens  1925             1  \n",
      "73  Mens  1925             1  \n",
      "74  Mens  1925             1  \n",
      "\n",
      "ausopen\n",
      "    set        round  match   player  gameswon incomplete  \\\n",
      "70    1  first round      1  R Heath       6.0      False   \n",
      "71    2  first round      1  R Heath       6.0      False   \n",
      "72    3  first round      1  R Heath       6.0      False   \n",
      "73    4  first round      1  R Heath       NaN      False   \n",
      "74    5  first round      1  R Heath       NaN      False   \n",
      "\n",
      "                                                links  tiebreak tourney_name  \\\n",
      "70  https://en.wikipedia.org//wiki/1905_Australasi...       NaN      ausopen   \n",
      "71  https://en.wikipedia.org//wiki/1905_Australasi...       NaN      ausopen   \n",
      "72  https://en.wikipedia.org//wiki/1905_Australasi...       NaN      ausopen   \n",
      "73  https://en.wikipedia.org//wiki/1905_Australasi...       NaN      ausopen   \n",
      "74  https://en.wikipedia.org//wiki/1905_Australasi...       NaN      ausopen   \n",
      "\n",
      "    tour  year  round_number  \n",
      "70  Mens  1905             1  \n",
      "71  Mens  1905             1  \n",
      "72  Mens  1905             1  \n",
      "73  Mens  1905             1  \n",
      "74  Mens  1905             1  \n",
      "\n",
      "wimbledon\n",
      "    set        round  match           player  gameswon incomplete  \\\n",
      "40    1  first round      1  Henry T Gillson       2.0      False   \n",
      "41    2  first round      1  Henry T Gillson       0.0      False   \n",
      "42    3  first round      1  Henry T Gillson       3.0      False   \n",
      "43    4  first round      1  Henry T Gillson       NaN      False   \n",
      "44    5  first round      1  Henry T Gillson       NaN      False   \n",
      "\n",
      "                                                links  tiebreak tourney_name  \\\n",
      "40  https://en.wikipedia.org//wiki/1877_Wimbledon_...       NaN    wimbledon   \n",
      "41  https://en.wikipedia.org//wiki/1877_Wimbledon_...       NaN    wimbledon   \n",
      "42  https://en.wikipedia.org//wiki/1877_Wimbledon_...       NaN    wimbledon   \n",
      "43  https://en.wikipedia.org//wiki/1877_Wimbledon_...       NaN    wimbledon   \n",
      "44  https://en.wikipedia.org//wiki/1877_Wimbledon_...       NaN    wimbledon   \n",
      "\n",
      "    tour  year  round_number  \n",
      "40  Mens  1877             1  \n",
      "41  Mens  1877             1  \n",
      "42  Mens  1877             1  \n",
      "43  Mens  1877             1  \n",
      "44  Mens  1877             1  \n",
      "\n",
      "usopen\n",
      "    set        round  match     player  gameswon incomplete  \\\n",
      "70    1  first round      1  HW Powell       0.0      False   \n",
      "71    2  first round      1  HW Powell       2.0      False   \n",
      "72    3  first round      1  HW Powell       NaN      False   \n",
      "73    4  first round      1  HW Powell       NaN        NaN   \n",
      "74    5  first round      1  HW Powell       NaN        NaN   \n",
      "\n",
      "                                                links  tiebreak tourney_name  \\\n",
      "70  https://en.wikipedia.org//wiki/1881_U.S._Natio...       NaN       usopen   \n",
      "71  https://en.wikipedia.org//wiki/1881_U.S._Natio...       NaN       usopen   \n",
      "72  https://en.wikipedia.org//wiki/1881_U.S._Natio...       NaN       usopen   \n",
      "73  https://en.wikipedia.org//wiki/1881_U.S._Natio...       NaN       usopen   \n",
      "74  https://en.wikipedia.org//wiki/1881_U.S._Natio...       NaN       usopen   \n",
      "\n",
      "    tour  year  round_number  \n",
      "70  Mens  1881             1  \n",
      "71  Mens  1881             1  \n",
      "72  Mens  1881             1  \n",
      "73  Mens  1881             1  \n",
      "74  Mens  1881             1  \n",
      "\n"
     ]
    }
   ],
   "source": [
    "for name, df in tourney_dfs.items():\n",
    "    \n",
    "    print(name)\n",
    "    print(df.head())\n",
    "    print()"
   ]
  },
  {
   "cell_type": "code",
   "execution_count": 22,
   "metadata": {},
   "outputs": [],
   "source": [
    "import numpy as np\n",
    "\n",
    "sample_event = tourney_dfs['wimbledon']"
   ]
  },
  {
   "cell_type": "code",
   "execution_count": 23,
   "metadata": {},
   "outputs": [
    {
     "data": {
      "text/html": [
       "<div>\n",
       "<style scoped>\n",
       "    .dataframe tbody tr th:only-of-type {\n",
       "        vertical-align: middle;\n",
       "    }\n",
       "\n",
       "    .dataframe tbody tr th {\n",
       "        vertical-align: top;\n",
       "    }\n",
       "\n",
       "    .dataframe thead th {\n",
       "        text-align: right;\n",
       "    }\n",
       "</style>\n",
       "<table border=\"1\" class=\"dataframe\">\n",
       "  <thead>\n",
       "    <tr style=\"text-align: right;\">\n",
       "      <th></th>\n",
       "      <th>set</th>\n",
       "      <th>round</th>\n",
       "      <th>match</th>\n",
       "      <th>player</th>\n",
       "      <th>gameswon</th>\n",
       "      <th>incomplete</th>\n",
       "      <th>links</th>\n",
       "      <th>tiebreak</th>\n",
       "      <th>tourney_name</th>\n",
       "      <th>tour</th>\n",
       "      <th>year</th>\n",
       "      <th>round_number</th>\n",
       "    </tr>\n",
       "  </thead>\n",
       "  <tbody>\n",
       "    <tr>\n",
       "      <th>40</th>\n",
       "      <td>1</td>\n",
       "      <td>first round</td>\n",
       "      <td>1</td>\n",
       "      <td>Henry T Gillson</td>\n",
       "      <td>2.0</td>\n",
       "      <td>False</td>\n",
       "      <td>https://en.wikipedia.org//wiki/1877_Wimbledon_...</td>\n",
       "      <td>NaN</td>\n",
       "      <td>wimbledon</td>\n",
       "      <td>Mens</td>\n",
       "      <td>1877</td>\n",
       "      <td>1</td>\n",
       "    </tr>\n",
       "    <tr>\n",
       "      <th>41</th>\n",
       "      <td>2</td>\n",
       "      <td>first round</td>\n",
       "      <td>1</td>\n",
       "      <td>Henry T Gillson</td>\n",
       "      <td>0.0</td>\n",
       "      <td>False</td>\n",
       "      <td>https://en.wikipedia.org//wiki/1877_Wimbledon_...</td>\n",
       "      <td>NaN</td>\n",
       "      <td>wimbledon</td>\n",
       "      <td>Mens</td>\n",
       "      <td>1877</td>\n",
       "      <td>1</td>\n",
       "    </tr>\n",
       "    <tr>\n",
       "      <th>42</th>\n",
       "      <td>3</td>\n",
       "      <td>first round</td>\n",
       "      <td>1</td>\n",
       "      <td>Henry T Gillson</td>\n",
       "      <td>3.0</td>\n",
       "      <td>False</td>\n",
       "      <td>https://en.wikipedia.org//wiki/1877_Wimbledon_...</td>\n",
       "      <td>NaN</td>\n",
       "      <td>wimbledon</td>\n",
       "      <td>Mens</td>\n",
       "      <td>1877</td>\n",
       "      <td>1</td>\n",
       "    </tr>\n",
       "    <tr>\n",
       "      <th>43</th>\n",
       "      <td>4</td>\n",
       "      <td>first round</td>\n",
       "      <td>1</td>\n",
       "      <td>Henry T Gillson</td>\n",
       "      <td>NaN</td>\n",
       "      <td>False</td>\n",
       "      <td>https://en.wikipedia.org//wiki/1877_Wimbledon_...</td>\n",
       "      <td>NaN</td>\n",
       "      <td>wimbledon</td>\n",
       "      <td>Mens</td>\n",
       "      <td>1877</td>\n",
       "      <td>1</td>\n",
       "    </tr>\n",
       "    <tr>\n",
       "      <th>44</th>\n",
       "      <td>5</td>\n",
       "      <td>first round</td>\n",
       "      <td>1</td>\n",
       "      <td>Henry T Gillson</td>\n",
       "      <td>NaN</td>\n",
       "      <td>False</td>\n",
       "      <td>https://en.wikipedia.org//wiki/1877_Wimbledon_...</td>\n",
       "      <td>NaN</td>\n",
       "      <td>wimbledon</td>\n",
       "      <td>Mens</td>\n",
       "      <td>1877</td>\n",
       "      <td>1</td>\n",
       "    </tr>\n",
       "    <tr>\n",
       "      <th>...</th>\n",
       "      <td>...</td>\n",
       "      <td>...</td>\n",
       "      <td>...</td>\n",
       "      <td>...</td>\n",
       "      <td>...</td>\n",
       "      <td>...</td>\n",
       "      <td>...</td>\n",
       "      <td>...</td>\n",
       "      <td>...</td>\n",
       "      <td>...</td>\n",
       "      <td>...</td>\n",
       "      <td>...</td>\n",
       "    </tr>\n",
       "    <tr>\n",
       "      <th>238783</th>\n",
       "      <td>1</td>\n",
       "      <td>final</td>\n",
       "      <td>1</td>\n",
       "      <td>Simona Halep</td>\n",
       "      <td>6.0</td>\n",
       "      <td>False</td>\n",
       "      <td>https://en.wikipedia.org//wiki/2019_Wimbledon_...</td>\n",
       "      <td>NaN</td>\n",
       "      <td>wimbledon</td>\n",
       "      <td>Womens</td>\n",
       "      <td>2019</td>\n",
       "      <td>7</td>\n",
       "    </tr>\n",
       "    <tr>\n",
       "      <th>238784</th>\n",
       "      <td>2</td>\n",
       "      <td>final</td>\n",
       "      <td>1</td>\n",
       "      <td>Simona Halep</td>\n",
       "      <td>6.0</td>\n",
       "      <td>False</td>\n",
       "      <td>https://en.wikipedia.org//wiki/2019_Wimbledon_...</td>\n",
       "      <td>NaN</td>\n",
       "      <td>wimbledon</td>\n",
       "      <td>Womens</td>\n",
       "      <td>2019</td>\n",
       "      <td>7</td>\n",
       "    </tr>\n",
       "    <tr>\n",
       "      <th>238785</th>\n",
       "      <td>3</td>\n",
       "      <td>final</td>\n",
       "      <td>1</td>\n",
       "      <td>Simona Halep</td>\n",
       "      <td>NaN</td>\n",
       "      <td>False</td>\n",
       "      <td>https://en.wikipedia.org//wiki/2019_Wimbledon_...</td>\n",
       "      <td>NaN</td>\n",
       "      <td>wimbledon</td>\n",
       "      <td>Womens</td>\n",
       "      <td>2019</td>\n",
       "      <td>7</td>\n",
       "    </tr>\n",
       "    <tr>\n",
       "      <th>238786</th>\n",
       "      <td>4</td>\n",
       "      <td>final</td>\n",
       "      <td>1</td>\n",
       "      <td>Simona Halep</td>\n",
       "      <td>NaN</td>\n",
       "      <td>NaN</td>\n",
       "      <td>https://en.wikipedia.org//wiki/2019_Wimbledon_...</td>\n",
       "      <td>NaN</td>\n",
       "      <td>wimbledon</td>\n",
       "      <td>Womens</td>\n",
       "      <td>2019</td>\n",
       "      <td>7</td>\n",
       "    </tr>\n",
       "    <tr>\n",
       "      <th>238787</th>\n",
       "      <td>5</td>\n",
       "      <td>final</td>\n",
       "      <td>1</td>\n",
       "      <td>Simona Halep</td>\n",
       "      <td>NaN</td>\n",
       "      <td>NaN</td>\n",
       "      <td>https://en.wikipedia.org//wiki/2019_Wimbledon_...</td>\n",
       "      <td>NaN</td>\n",
       "      <td>wimbledon</td>\n",
       "      <td>Womens</td>\n",
       "      <td>2019</td>\n",
       "      <td>7</td>\n",
       "    </tr>\n",
       "  </tbody>\n",
       "</table>\n",
       "<p>239552 rows × 12 columns</p>\n",
       "</div>"
      ],
      "text/plain": [
       "        set        round  match           player  gameswon incomplete  \\\n",
       "40        1  first round      1  Henry T Gillson       2.0      False   \n",
       "41        2  first round      1  Henry T Gillson       0.0      False   \n",
       "42        3  first round      1  Henry T Gillson       3.0      False   \n",
       "43        4  first round      1  Henry T Gillson       NaN      False   \n",
       "44        5  first round      1  Henry T Gillson       NaN      False   \n",
       "...     ...          ...    ...              ...       ...        ...   \n",
       "238783    1        final      1     Simona Halep       6.0      False   \n",
       "238784    2        final      1     Simona Halep       6.0      False   \n",
       "238785    3        final      1     Simona Halep       NaN      False   \n",
       "238786    4        final      1     Simona Halep       NaN        NaN   \n",
       "238787    5        final      1     Simona Halep       NaN        NaN   \n",
       "\n",
       "                                                    links  tiebreak  \\\n",
       "40      https://en.wikipedia.org//wiki/1877_Wimbledon_...       NaN   \n",
       "41      https://en.wikipedia.org//wiki/1877_Wimbledon_...       NaN   \n",
       "42      https://en.wikipedia.org//wiki/1877_Wimbledon_...       NaN   \n",
       "43      https://en.wikipedia.org//wiki/1877_Wimbledon_...       NaN   \n",
       "44      https://en.wikipedia.org//wiki/1877_Wimbledon_...       NaN   \n",
       "...                                                   ...       ...   \n",
       "238783  https://en.wikipedia.org//wiki/2019_Wimbledon_...       NaN   \n",
       "238784  https://en.wikipedia.org//wiki/2019_Wimbledon_...       NaN   \n",
       "238785  https://en.wikipedia.org//wiki/2019_Wimbledon_...       NaN   \n",
       "238786  https://en.wikipedia.org//wiki/2019_Wimbledon_...       NaN   \n",
       "238787  https://en.wikipedia.org//wiki/2019_Wimbledon_...       NaN   \n",
       "\n",
       "       tourney_name    tour  year  round_number  \n",
       "40        wimbledon    Mens  1877             1  \n",
       "41        wimbledon    Mens  1877             1  \n",
       "42        wimbledon    Mens  1877             1  \n",
       "43        wimbledon    Mens  1877             1  \n",
       "44        wimbledon    Mens  1877             1  \n",
       "...             ...     ...   ...           ...  \n",
       "238783    wimbledon  Womens  2019             7  \n",
       "238784    wimbledon  Womens  2019             7  \n",
       "238785    wimbledon  Womens  2019             7  \n",
       "238786    wimbledon  Womens  2019             7  \n",
       "238787    wimbledon  Womens  2019             7  \n",
       "\n",
       "[239552 rows x 12 columns]"
      ]
     },
     "execution_count": 23,
     "metadata": {},
     "output_type": "execute_result"
    }
   ],
   "source": [
    "sample_event"
   ]
  },
  {
   "cell_type": "code",
   "execution_count": 24,
   "metadata": {},
   "outputs": [
    {
     "data": {
      "text/html": [
       "<div>\n",
       "<style scoped>\n",
       "    .dataframe tbody tr th:only-of-type {\n",
       "        vertical-align: middle;\n",
       "    }\n",
       "\n",
       "    .dataframe tbody tr th {\n",
       "        vertical-align: top;\n",
       "    }\n",
       "\n",
       "    .dataframe thead th {\n",
       "        text-align: right;\n",
       "    }\n",
       "</style>\n",
       "<table border=\"1\" class=\"dataframe\">\n",
       "  <thead>\n",
       "    <tr style=\"text-align: right;\">\n",
       "      <th></th>\n",
       "      <th>set</th>\n",
       "      <th>round</th>\n",
       "      <th>match</th>\n",
       "      <th>player</th>\n",
       "      <th>gameswon</th>\n",
       "      <th>incomplete</th>\n",
       "      <th>links</th>\n",
       "      <th>tiebreak</th>\n",
       "      <th>tourney_name</th>\n",
       "      <th>tour</th>\n",
       "      <th>year</th>\n",
       "      <th>round_number</th>\n",
       "    </tr>\n",
       "  </thead>\n",
       "  <tbody>\n",
       "    <tr>\n",
       "      <th>122160</th>\n",
       "      <td>1</td>\n",
       "      <td>first round</td>\n",
       "      <td>2</td>\n",
       "      <td>D Sanguinetti</td>\n",
       "      <td>6.0</td>\n",
       "      <td>False</td>\n",
       "      <td>https://en.wikipedia.org//wiki/2007_Wimbledon_...</td>\n",
       "      <td>NaN</td>\n",
       "      <td>wimbledon</td>\n",
       "      <td>Mens</td>\n",
       "      <td>2007</td>\n",
       "      <td>1</td>\n",
       "    </tr>\n",
       "    <tr>\n",
       "      <th>122161</th>\n",
       "      <td>2</td>\n",
       "      <td>first round</td>\n",
       "      <td>2</td>\n",
       "      <td>D Sanguinetti</td>\n",
       "      <td>3.0</td>\n",
       "      <td>False</td>\n",
       "      <td>https://en.wikipedia.org//wiki/2007_Wimbledon_...</td>\n",
       "      <td>NaN</td>\n",
       "      <td>wimbledon</td>\n",
       "      <td>Mens</td>\n",
       "      <td>2007</td>\n",
       "      <td>1</td>\n",
       "    </tr>\n",
       "    <tr>\n",
       "      <th>122162</th>\n",
       "      <td>3</td>\n",
       "      <td>first round</td>\n",
       "      <td>2</td>\n",
       "      <td>D Sanguinetti</td>\n",
       "      <td>4.0</td>\n",
       "      <td>False</td>\n",
       "      <td>https://en.wikipedia.org//wiki/2007_Wimbledon_...</td>\n",
       "      <td>NaN</td>\n",
       "      <td>wimbledon</td>\n",
       "      <td>Mens</td>\n",
       "      <td>2007</td>\n",
       "      <td>1</td>\n",
       "    </tr>\n",
       "    <tr>\n",
       "      <th>122163</th>\n",
       "      <td>4</td>\n",
       "      <td>first round</td>\n",
       "      <td>2</td>\n",
       "      <td>D Sanguinetti</td>\n",
       "      <td>4.0</td>\n",
       "      <td>False</td>\n",
       "      <td>https://en.wikipedia.org//wiki/2007_Wimbledon_...</td>\n",
       "      <td>NaN</td>\n",
       "      <td>wimbledon</td>\n",
       "      <td>Mens</td>\n",
       "      <td>2007</td>\n",
       "      <td>1</td>\n",
       "    </tr>\n",
       "    <tr>\n",
       "      <th>122164</th>\n",
       "      <td>5</td>\n",
       "      <td>first round</td>\n",
       "      <td>2</td>\n",
       "      <td>D Sanguinetti</td>\n",
       "      <td>NaN</td>\n",
       "      <td>False</td>\n",
       "      <td>https://en.wikipedia.org//wiki/2007_Wimbledon_...</td>\n",
       "      <td>NaN</td>\n",
       "      <td>wimbledon</td>\n",
       "      <td>Mens</td>\n",
       "      <td>2007</td>\n",
       "      <td>1</td>\n",
       "    </tr>\n",
       "    <tr>\n",
       "      <th>122165</th>\n",
       "      <td>1</td>\n",
       "      <td>first round</td>\n",
       "      <td>2</td>\n",
       "      <td>JM del Potro</td>\n",
       "      <td>3.0</td>\n",
       "      <td>False</td>\n",
       "      <td>https://en.wikipedia.org//wiki/2007_Wimbledon_...</td>\n",
       "      <td>NaN</td>\n",
       "      <td>wimbledon</td>\n",
       "      <td>Mens</td>\n",
       "      <td>2007</td>\n",
       "      <td>1</td>\n",
       "    </tr>\n",
       "    <tr>\n",
       "      <th>122166</th>\n",
       "      <td>2</td>\n",
       "      <td>first round</td>\n",
       "      <td>2</td>\n",
       "      <td>JM del Potro</td>\n",
       "      <td>6.0</td>\n",
       "      <td>False</td>\n",
       "      <td>https://en.wikipedia.org//wiki/2007_Wimbledon_...</td>\n",
       "      <td>NaN</td>\n",
       "      <td>wimbledon</td>\n",
       "      <td>Mens</td>\n",
       "      <td>2007</td>\n",
       "      <td>1</td>\n",
       "    </tr>\n",
       "    <tr>\n",
       "      <th>122167</th>\n",
       "      <td>3</td>\n",
       "      <td>first round</td>\n",
       "      <td>2</td>\n",
       "      <td>JM del Potro</td>\n",
       "      <td>6.0</td>\n",
       "      <td>False</td>\n",
       "      <td>https://en.wikipedia.org//wiki/2007_Wimbledon_...</td>\n",
       "      <td>NaN</td>\n",
       "      <td>wimbledon</td>\n",
       "      <td>Mens</td>\n",
       "      <td>2007</td>\n",
       "      <td>1</td>\n",
       "    </tr>\n",
       "    <tr>\n",
       "      <th>122168</th>\n",
       "      <td>4</td>\n",
       "      <td>first round</td>\n",
       "      <td>2</td>\n",
       "      <td>JM del Potro</td>\n",
       "      <td>6.0</td>\n",
       "      <td>False</td>\n",
       "      <td>https://en.wikipedia.org//wiki/2007_Wimbledon_...</td>\n",
       "      <td>NaN</td>\n",
       "      <td>wimbledon</td>\n",
       "      <td>Mens</td>\n",
       "      <td>2007</td>\n",
       "      <td>1</td>\n",
       "    </tr>\n",
       "    <tr>\n",
       "      <th>122169</th>\n",
       "      <td>5</td>\n",
       "      <td>first round</td>\n",
       "      <td>2</td>\n",
       "      <td>JM del Potro</td>\n",
       "      <td>NaN</td>\n",
       "      <td>False</td>\n",
       "      <td>https://en.wikipedia.org//wiki/2007_Wimbledon_...</td>\n",
       "      <td>NaN</td>\n",
       "      <td>wimbledon</td>\n",
       "      <td>Mens</td>\n",
       "      <td>2007</td>\n",
       "      <td>1</td>\n",
       "    </tr>\n",
       "  </tbody>\n",
       "</table>\n",
       "</div>"
      ],
      "text/plain": [
       "        set        round  match         player  gameswon incomplete  \\\n",
       "122160    1  first round      2  D Sanguinetti       6.0      False   \n",
       "122161    2  first round      2  D Sanguinetti       3.0      False   \n",
       "122162    3  first round      2  D Sanguinetti       4.0      False   \n",
       "122163    4  first round      2  D Sanguinetti       4.0      False   \n",
       "122164    5  first round      2  D Sanguinetti       NaN      False   \n",
       "122165    1  first round      2   JM del Potro       3.0      False   \n",
       "122166    2  first round      2   JM del Potro       6.0      False   \n",
       "122167    3  first round      2   JM del Potro       6.0      False   \n",
       "122168    4  first round      2   JM del Potro       6.0      False   \n",
       "122169    5  first round      2   JM del Potro       NaN      False   \n",
       "\n",
       "                                                    links  tiebreak  \\\n",
       "122160  https://en.wikipedia.org//wiki/2007_Wimbledon_...       NaN   \n",
       "122161  https://en.wikipedia.org//wiki/2007_Wimbledon_...       NaN   \n",
       "122162  https://en.wikipedia.org//wiki/2007_Wimbledon_...       NaN   \n",
       "122163  https://en.wikipedia.org//wiki/2007_Wimbledon_...       NaN   \n",
       "122164  https://en.wikipedia.org//wiki/2007_Wimbledon_...       NaN   \n",
       "122165  https://en.wikipedia.org//wiki/2007_Wimbledon_...       NaN   \n",
       "122166  https://en.wikipedia.org//wiki/2007_Wimbledon_...       NaN   \n",
       "122167  https://en.wikipedia.org//wiki/2007_Wimbledon_...       NaN   \n",
       "122168  https://en.wikipedia.org//wiki/2007_Wimbledon_...       NaN   \n",
       "122169  https://en.wikipedia.org//wiki/2007_Wimbledon_...       NaN   \n",
       "\n",
       "       tourney_name  tour  year  round_number  \n",
       "122160    wimbledon  Mens  2007             1  \n",
       "122161    wimbledon  Mens  2007             1  \n",
       "122162    wimbledon  Mens  2007             1  \n",
       "122163    wimbledon  Mens  2007             1  \n",
       "122164    wimbledon  Mens  2007             1  \n",
       "122165    wimbledon  Mens  2007             1  \n",
       "122166    wimbledon  Mens  2007             1  \n",
       "122167    wimbledon  Mens  2007             1  \n",
       "122168    wimbledon  Mens  2007             1  \n",
       "122169    wimbledon  Mens  2007             1  "
      ]
     },
     "execution_count": 24,
     "metadata": {},
     "output_type": "execute_result"
    }
   ],
   "source": [
    "sample_event[(sample_event['match'] == 2) & (sample_event['year'] == 2007)\n",
    "             & (sample_event['tour'] == 'Mens') & (sample_event['round'] == 'first round')]"
   ]
  },
  {
   "cell_type": "code",
   "execution_count": null,
   "metadata": {},
   "outputs": [],
   "source": []
  },
  {
   "cell_type": "code",
   "execution_count": 25,
   "metadata": {},
   "outputs": [],
   "source": [
    "mens_only = sample_event[sample_event['tour'] == 'Mens']"
   ]
  },
  {
   "cell_type": "code",
   "execution_count": 43,
   "metadata": {},
   "outputs": [],
   "source": [
    "from data_utils import plot_completeness\n",
    "from data_utils import summarise\n",
    "from data_utils import turn_into_summary_df"
   ]
  },
  {
   "cell_type": "code",
   "execution_count": 46,
   "metadata": {},
   "outputs": [],
   "source": [
    "summarised = turn_into_summary_df(sample_event)"
   ]
  },
  {
   "cell_type": "code",
   "execution_count": 47,
   "metadata": {},
   "outputs": [],
   "source": [
    "import matplotlib.pyplot as plt\n",
    "%matplotlib inline"
   ]
  },
  {
   "cell_type": "code",
   "execution_count": 48,
   "metadata": {},
   "outputs": [],
   "source": [
    "import plotly.express as pxe"
   ]
  },
  {
   "cell_type": "code",
   "execution_count": 49,
   "metadata": {},
   "outputs": [
    {
     "data": {
      "application/vnd.plotly.v1+json": {
       "config": {
        "plotlyServerURL": "https://plot.ly"
       },
       "data": [
        {
         "hovertemplate": "x=%{x}<br>y=%{y}<extra></extra>",
         "legendgroup": "",
         "marker": {
          "color": "#636efa",
          "symbol": "circle"
         },
         "mode": "markers",
         "name": "",
         "orientation": "v",
         "showlegend": false,
         "type": "scatter",
         "x": [
          1877,
          1878,
          1879,
          1880,
          1881,
          1882,
          1883,
          1884,
          1885,
          1886,
          1887,
          1888,
          1889,
          1890,
          1891,
          1892,
          1893,
          1894,
          1895,
          1896,
          1897,
          1898,
          1899,
          1900,
          1901,
          1902,
          1903,
          1904,
          1905,
          1906,
          1907,
          1908,
          1909,
          1910,
          1911,
          1912,
          1913,
          1914,
          1919,
          1920,
          1921,
          1922,
          1923,
          1924,
          1925,
          1926,
          1927,
          1928,
          1929,
          1930,
          1931,
          1932,
          1933,
          1934,
          1935,
          1936,
          1937,
          1938,
          1939,
          1946,
          1947,
          1948,
          1949,
          1950,
          1951,
          1952,
          1953,
          1954,
          1955,
          1956,
          1957,
          1958,
          1959,
          1960,
          1961,
          1962,
          1963,
          1964,
          1965,
          1966,
          1967,
          1968,
          1969,
          1970,
          1971,
          1972,
          1973,
          1974,
          1975,
          1976,
          1977,
          1978,
          1979,
          1980,
          1981,
          1982,
          1983,
          1984,
          1985,
          1986,
          1987,
          1988,
          1989,
          1990,
          1991,
          1992,
          1993,
          1994,
          1995,
          1996,
          1997,
          1998,
          1999,
          2000,
          2001,
          2002,
          2003,
          2004,
          2005,
          2006,
          2007,
          2008,
          2009,
          2010,
          2011,
          2012,
          2013,
          2014,
          2015,
          2016,
          2017,
          2018,
          2019
         ],
         "xaxis": "x",
         "y": [
          23,
          38,
          47,
          60,
          49,
          28,
          23,
          28,
          22,
          22,
          15,
          23,
          23,
          29,
          21,
          26,
          26,
          22,
          17,
          30,
          30,
          36,
          36,
          43,
          45,
          41,
          43,
          61,
          70,
          68,
          84,
          69,
          84,
          91,
          103,
          80,
          115,
          101,
          127,
          127,
          127,
          127,
          127,
          127,
          127,
          127,
          127,
          127,
          127,
          127,
          127,
          127,
          127,
          127,
          127,
          127,
          127,
          127,
          127,
          127,
          127,
          127,
          127,
          127,
          127,
          127,
          127,
          127,
          127,
          127,
          127,
          127,
          127,
          127,
          127,
          127,
          127,
          127,
          127,
          127,
          127,
          127,
          127,
          127,
          127,
          127,
          127,
          127,
          127,
          127,
          127,
          127,
          127,
          127,
          127,
          127,
          127,
          127,
          127,
          127,
          127,
          127,
          127,
          127,
          127,
          127,
          127,
          127,
          127,
          127,
          127,
          127,
          127,
          127,
          127,
          127,
          127,
          127,
          127,
          127,
          127,
          127,
          127,
          127,
          127,
          127,
          127,
          127,
          127,
          127,
          127,
          127,
          127
         ],
         "yaxis": "y"
        }
       ],
       "layout": {
        "legend": {
         "tracegroupgap": 0
        },
        "margin": {
         "t": 60
        },
        "template": {
         "data": {
          "bar": [
           {
            "error_x": {
             "color": "#2a3f5f"
            },
            "error_y": {
             "color": "#2a3f5f"
            },
            "marker": {
             "line": {
              "color": "#E5ECF6",
              "width": 0.5
             }
            },
            "type": "bar"
           }
          ],
          "barpolar": [
           {
            "marker": {
             "line": {
              "color": "#E5ECF6",
              "width": 0.5
             }
            },
            "type": "barpolar"
           }
          ],
          "carpet": [
           {
            "aaxis": {
             "endlinecolor": "#2a3f5f",
             "gridcolor": "white",
             "linecolor": "white",
             "minorgridcolor": "white",
             "startlinecolor": "#2a3f5f"
            },
            "baxis": {
             "endlinecolor": "#2a3f5f",
             "gridcolor": "white",
             "linecolor": "white",
             "minorgridcolor": "white",
             "startlinecolor": "#2a3f5f"
            },
            "type": "carpet"
           }
          ],
          "choropleth": [
           {
            "colorbar": {
             "outlinewidth": 0,
             "ticks": ""
            },
            "type": "choropleth"
           }
          ],
          "contour": [
           {
            "colorbar": {
             "outlinewidth": 0,
             "ticks": ""
            },
            "colorscale": [
             [
              0,
              "#0d0887"
             ],
             [
              0.1111111111111111,
              "#46039f"
             ],
             [
              0.2222222222222222,
              "#7201a8"
             ],
             [
              0.3333333333333333,
              "#9c179e"
             ],
             [
              0.4444444444444444,
              "#bd3786"
             ],
             [
              0.5555555555555556,
              "#d8576b"
             ],
             [
              0.6666666666666666,
              "#ed7953"
             ],
             [
              0.7777777777777778,
              "#fb9f3a"
             ],
             [
              0.8888888888888888,
              "#fdca26"
             ],
             [
              1,
              "#f0f921"
             ]
            ],
            "type": "contour"
           }
          ],
          "contourcarpet": [
           {
            "colorbar": {
             "outlinewidth": 0,
             "ticks": ""
            },
            "type": "contourcarpet"
           }
          ],
          "heatmap": [
           {
            "colorbar": {
             "outlinewidth": 0,
             "ticks": ""
            },
            "colorscale": [
             [
              0,
              "#0d0887"
             ],
             [
              0.1111111111111111,
              "#46039f"
             ],
             [
              0.2222222222222222,
              "#7201a8"
             ],
             [
              0.3333333333333333,
              "#9c179e"
             ],
             [
              0.4444444444444444,
              "#bd3786"
             ],
             [
              0.5555555555555556,
              "#d8576b"
             ],
             [
              0.6666666666666666,
              "#ed7953"
             ],
             [
              0.7777777777777778,
              "#fb9f3a"
             ],
             [
              0.8888888888888888,
              "#fdca26"
             ],
             [
              1,
              "#f0f921"
             ]
            ],
            "type": "heatmap"
           }
          ],
          "heatmapgl": [
           {
            "colorbar": {
             "outlinewidth": 0,
             "ticks": ""
            },
            "colorscale": [
             [
              0,
              "#0d0887"
             ],
             [
              0.1111111111111111,
              "#46039f"
             ],
             [
              0.2222222222222222,
              "#7201a8"
             ],
             [
              0.3333333333333333,
              "#9c179e"
             ],
             [
              0.4444444444444444,
              "#bd3786"
             ],
             [
              0.5555555555555556,
              "#d8576b"
             ],
             [
              0.6666666666666666,
              "#ed7953"
             ],
             [
              0.7777777777777778,
              "#fb9f3a"
             ],
             [
              0.8888888888888888,
              "#fdca26"
             ],
             [
              1,
              "#f0f921"
             ]
            ],
            "type": "heatmapgl"
           }
          ],
          "histogram": [
           {
            "marker": {
             "colorbar": {
              "outlinewidth": 0,
              "ticks": ""
             }
            },
            "type": "histogram"
           }
          ],
          "histogram2d": [
           {
            "colorbar": {
             "outlinewidth": 0,
             "ticks": ""
            },
            "colorscale": [
             [
              0,
              "#0d0887"
             ],
             [
              0.1111111111111111,
              "#46039f"
             ],
             [
              0.2222222222222222,
              "#7201a8"
             ],
             [
              0.3333333333333333,
              "#9c179e"
             ],
             [
              0.4444444444444444,
              "#bd3786"
             ],
             [
              0.5555555555555556,
              "#d8576b"
             ],
             [
              0.6666666666666666,
              "#ed7953"
             ],
             [
              0.7777777777777778,
              "#fb9f3a"
             ],
             [
              0.8888888888888888,
              "#fdca26"
             ],
             [
              1,
              "#f0f921"
             ]
            ],
            "type": "histogram2d"
           }
          ],
          "histogram2dcontour": [
           {
            "colorbar": {
             "outlinewidth": 0,
             "ticks": ""
            },
            "colorscale": [
             [
              0,
              "#0d0887"
             ],
             [
              0.1111111111111111,
              "#46039f"
             ],
             [
              0.2222222222222222,
              "#7201a8"
             ],
             [
              0.3333333333333333,
              "#9c179e"
             ],
             [
              0.4444444444444444,
              "#bd3786"
             ],
             [
              0.5555555555555556,
              "#d8576b"
             ],
             [
              0.6666666666666666,
              "#ed7953"
             ],
             [
              0.7777777777777778,
              "#fb9f3a"
             ],
             [
              0.8888888888888888,
              "#fdca26"
             ],
             [
              1,
              "#f0f921"
             ]
            ],
            "type": "histogram2dcontour"
           }
          ],
          "mesh3d": [
           {
            "colorbar": {
             "outlinewidth": 0,
             "ticks": ""
            },
            "type": "mesh3d"
           }
          ],
          "parcoords": [
           {
            "line": {
             "colorbar": {
              "outlinewidth": 0,
              "ticks": ""
             }
            },
            "type": "parcoords"
           }
          ],
          "pie": [
           {
            "automargin": true,
            "type": "pie"
           }
          ],
          "scatter": [
           {
            "marker": {
             "colorbar": {
              "outlinewidth": 0,
              "ticks": ""
             }
            },
            "type": "scatter"
           }
          ],
          "scatter3d": [
           {
            "line": {
             "colorbar": {
              "outlinewidth": 0,
              "ticks": ""
             }
            },
            "marker": {
             "colorbar": {
              "outlinewidth": 0,
              "ticks": ""
             }
            },
            "type": "scatter3d"
           }
          ],
          "scattercarpet": [
           {
            "marker": {
             "colorbar": {
              "outlinewidth": 0,
              "ticks": ""
             }
            },
            "type": "scattercarpet"
           }
          ],
          "scattergeo": [
           {
            "marker": {
             "colorbar": {
              "outlinewidth": 0,
              "ticks": ""
             }
            },
            "type": "scattergeo"
           }
          ],
          "scattergl": [
           {
            "marker": {
             "colorbar": {
              "outlinewidth": 0,
              "ticks": ""
             }
            },
            "type": "scattergl"
           }
          ],
          "scattermapbox": [
           {
            "marker": {
             "colorbar": {
              "outlinewidth": 0,
              "ticks": ""
             }
            },
            "type": "scattermapbox"
           }
          ],
          "scatterpolar": [
           {
            "marker": {
             "colorbar": {
              "outlinewidth": 0,
              "ticks": ""
             }
            },
            "type": "scatterpolar"
           }
          ],
          "scatterpolargl": [
           {
            "marker": {
             "colorbar": {
              "outlinewidth": 0,
              "ticks": ""
             }
            },
            "type": "scatterpolargl"
           }
          ],
          "scatterternary": [
           {
            "marker": {
             "colorbar": {
              "outlinewidth": 0,
              "ticks": ""
             }
            },
            "type": "scatterternary"
           }
          ],
          "surface": [
           {
            "colorbar": {
             "outlinewidth": 0,
             "ticks": ""
            },
            "colorscale": [
             [
              0,
              "#0d0887"
             ],
             [
              0.1111111111111111,
              "#46039f"
             ],
             [
              0.2222222222222222,
              "#7201a8"
             ],
             [
              0.3333333333333333,
              "#9c179e"
             ],
             [
              0.4444444444444444,
              "#bd3786"
             ],
             [
              0.5555555555555556,
              "#d8576b"
             ],
             [
              0.6666666666666666,
              "#ed7953"
             ],
             [
              0.7777777777777778,
              "#fb9f3a"
             ],
             [
              0.8888888888888888,
              "#fdca26"
             ],
             [
              1,
              "#f0f921"
             ]
            ],
            "type": "surface"
           }
          ],
          "table": [
           {
            "cells": {
             "fill": {
              "color": "#EBF0F8"
             },
             "line": {
              "color": "white"
             }
            },
            "header": {
             "fill": {
              "color": "#C8D4E3"
             },
             "line": {
              "color": "white"
             }
            },
            "type": "table"
           }
          ]
         },
         "layout": {
          "annotationdefaults": {
           "arrowcolor": "#2a3f5f",
           "arrowhead": 0,
           "arrowwidth": 1
          },
          "coloraxis": {
           "colorbar": {
            "outlinewidth": 0,
            "ticks": ""
           }
          },
          "colorscale": {
           "diverging": [
            [
             0,
             "#8e0152"
            ],
            [
             0.1,
             "#c51b7d"
            ],
            [
             0.2,
             "#de77ae"
            ],
            [
             0.3,
             "#f1b6da"
            ],
            [
             0.4,
             "#fde0ef"
            ],
            [
             0.5,
             "#f7f7f7"
            ],
            [
             0.6,
             "#e6f5d0"
            ],
            [
             0.7,
             "#b8e186"
            ],
            [
             0.8,
             "#7fbc41"
            ],
            [
             0.9,
             "#4d9221"
            ],
            [
             1,
             "#276419"
            ]
           ],
           "sequential": [
            [
             0,
             "#0d0887"
            ],
            [
             0.1111111111111111,
             "#46039f"
            ],
            [
             0.2222222222222222,
             "#7201a8"
            ],
            [
             0.3333333333333333,
             "#9c179e"
            ],
            [
             0.4444444444444444,
             "#bd3786"
            ],
            [
             0.5555555555555556,
             "#d8576b"
            ],
            [
             0.6666666666666666,
             "#ed7953"
            ],
            [
             0.7777777777777778,
             "#fb9f3a"
            ],
            [
             0.8888888888888888,
             "#fdca26"
            ],
            [
             1,
             "#f0f921"
            ]
           ],
           "sequentialminus": [
            [
             0,
             "#0d0887"
            ],
            [
             0.1111111111111111,
             "#46039f"
            ],
            [
             0.2222222222222222,
             "#7201a8"
            ],
            [
             0.3333333333333333,
             "#9c179e"
            ],
            [
             0.4444444444444444,
             "#bd3786"
            ],
            [
             0.5555555555555556,
             "#d8576b"
            ],
            [
             0.6666666666666666,
             "#ed7953"
            ],
            [
             0.7777777777777778,
             "#fb9f3a"
            ],
            [
             0.8888888888888888,
             "#fdca26"
            ],
            [
             1,
             "#f0f921"
            ]
           ]
          },
          "colorway": [
           "#636efa",
           "#EF553B",
           "#00cc96",
           "#ab63fa",
           "#FFA15A",
           "#19d3f3",
           "#FF6692",
           "#B6E880",
           "#FF97FF",
           "#FECB52"
          ],
          "font": {
           "color": "#2a3f5f"
          },
          "geo": {
           "bgcolor": "white",
           "lakecolor": "white",
           "landcolor": "#E5ECF6",
           "showlakes": true,
           "showland": true,
           "subunitcolor": "white"
          },
          "hoverlabel": {
           "align": "left"
          },
          "hovermode": "closest",
          "mapbox": {
           "style": "light"
          },
          "paper_bgcolor": "white",
          "plot_bgcolor": "#E5ECF6",
          "polar": {
           "angularaxis": {
            "gridcolor": "white",
            "linecolor": "white",
            "ticks": ""
           },
           "bgcolor": "#E5ECF6",
           "radialaxis": {
            "gridcolor": "white",
            "linecolor": "white",
            "ticks": ""
           }
          },
          "scene": {
           "xaxis": {
            "backgroundcolor": "#E5ECF6",
            "gridcolor": "white",
            "gridwidth": 2,
            "linecolor": "white",
            "showbackground": true,
            "ticks": "",
            "zerolinecolor": "white"
           },
           "yaxis": {
            "backgroundcolor": "#E5ECF6",
            "gridcolor": "white",
            "gridwidth": 2,
            "linecolor": "white",
            "showbackground": true,
            "ticks": "",
            "zerolinecolor": "white"
           },
           "zaxis": {
            "backgroundcolor": "#E5ECF6",
            "gridcolor": "white",
            "gridwidth": 2,
            "linecolor": "white",
            "showbackground": true,
            "ticks": "",
            "zerolinecolor": "white"
           }
          },
          "shapedefaults": {
           "line": {
            "color": "#2a3f5f"
           }
          },
          "ternary": {
           "aaxis": {
            "gridcolor": "white",
            "linecolor": "white",
            "ticks": ""
           },
           "baxis": {
            "gridcolor": "white",
            "linecolor": "white",
            "ticks": ""
           },
           "bgcolor": "#E5ECF6",
           "caxis": {
            "gridcolor": "white",
            "linecolor": "white",
            "ticks": ""
           }
          },
          "title": {
           "x": 0.05
          },
          "xaxis": {
           "automargin": true,
           "gridcolor": "white",
           "linecolor": "white",
           "ticks": "",
           "title": {
            "standoff": 15
           },
           "zerolinecolor": "white",
           "zerolinewidth": 2
          },
          "yaxis": {
           "automargin": true,
           "gridcolor": "white",
           "linecolor": "white",
           "ticks": "",
           "title": {
            "standoff": 15
           },
           "zerolinecolor": "white",
           "zerolinewidth": 2
          }
         }
        },
        "xaxis": {
         "anchor": "y",
         "domain": [
          0,
          1
         ],
         "title": {
          "text": "x"
         }
        },
        "yaxis": {
         "anchor": "x",
         "domain": [
          0,
          1
         ],
         "title": {
          "text": "y"
         }
        }
       }
      },
      "text/html": [
       "<div>\n",
       "        \n",
       "        \n",
       "            <div id=\"9c0b827b-b650-4b5c-a3db-0f94c3bbe6aa\" class=\"plotly-graph-div\" style=\"height:525px; width:100%;\"></div>\n",
       "            <script type=\"text/javascript\">\n",
       "                require([\"plotly\"], function(Plotly) {\n",
       "                    window.PLOTLYENV=window.PLOTLYENV || {};\n",
       "                    \n",
       "                if (document.getElementById(\"9c0b827b-b650-4b5c-a3db-0f94c3bbe6aa\")) {\n",
       "                    Plotly.newPlot(\n",
       "                        '9c0b827b-b650-4b5c-a3db-0f94c3bbe6aa',\n",
       "                        [{\"hovertemplate\": \"x=%{x}<br>y=%{y}<extra></extra>\", \"legendgroup\": \"\", \"marker\": {\"color\": \"#636efa\", \"symbol\": \"circle\"}, \"mode\": \"markers\", \"name\": \"\", \"orientation\": \"v\", \"showlegend\": false, \"type\": \"scatter\", \"x\": [1877, 1878, 1879, 1880, 1881, 1882, 1883, 1884, 1885, 1886, 1887, 1888, 1889, 1890, 1891, 1892, 1893, 1894, 1895, 1896, 1897, 1898, 1899, 1900, 1901, 1902, 1903, 1904, 1905, 1906, 1907, 1908, 1909, 1910, 1911, 1912, 1913, 1914, 1919, 1920, 1921, 1922, 1923, 1924, 1925, 1926, 1927, 1928, 1929, 1930, 1931, 1932, 1933, 1934, 1935, 1936, 1937, 1938, 1939, 1946, 1947, 1948, 1949, 1950, 1951, 1952, 1953, 1954, 1955, 1956, 1957, 1958, 1959, 1960, 1961, 1962, 1963, 1964, 1965, 1966, 1967, 1968, 1969, 1970, 1971, 1972, 1973, 1974, 1975, 1976, 1977, 1978, 1979, 1980, 1981, 1982, 1983, 1984, 1985, 1986, 1987, 1988, 1989, 1990, 1991, 1992, 1993, 1994, 1995, 1996, 1997, 1998, 1999, 2000, 2001, 2002, 2003, 2004, 2005, 2006, 2007, 2008, 2009, 2010, 2011, 2012, 2013, 2014, 2015, 2016, 2017, 2018, 2019], \"xaxis\": \"x\", \"y\": [23, 38, 47, 60, 49, 28, 23, 28, 22, 22, 15, 23, 23, 29, 21, 26, 26, 22, 17, 30, 30, 36, 36, 43, 45, 41, 43, 61, 70, 68, 84, 69, 84, 91, 103, 80, 115, 101, 127, 127, 127, 127, 127, 127, 127, 127, 127, 127, 127, 127, 127, 127, 127, 127, 127, 127, 127, 127, 127, 127, 127, 127, 127, 127, 127, 127, 127, 127, 127, 127, 127, 127, 127, 127, 127, 127, 127, 127, 127, 127, 127, 127, 127, 127, 127, 127, 127, 127, 127, 127, 127, 127, 127, 127, 127, 127, 127, 127, 127, 127, 127, 127, 127, 127, 127, 127, 127, 127, 127, 127, 127, 127, 127, 127, 127, 127, 127, 127, 127, 127, 127, 127, 127, 127, 127, 127, 127, 127, 127, 127, 127, 127, 127], \"yaxis\": \"y\"}],\n",
       "                        {\"legend\": {\"tracegroupgap\": 0}, \"margin\": {\"t\": 60}, \"template\": {\"data\": {\"bar\": [{\"error_x\": {\"color\": \"#2a3f5f\"}, \"error_y\": {\"color\": \"#2a3f5f\"}, \"marker\": {\"line\": {\"color\": \"#E5ECF6\", \"width\": 0.5}}, \"type\": \"bar\"}], \"barpolar\": [{\"marker\": {\"line\": {\"color\": \"#E5ECF6\", \"width\": 0.5}}, \"type\": \"barpolar\"}], \"carpet\": [{\"aaxis\": {\"endlinecolor\": \"#2a3f5f\", \"gridcolor\": \"white\", \"linecolor\": \"white\", \"minorgridcolor\": \"white\", \"startlinecolor\": \"#2a3f5f\"}, \"baxis\": {\"endlinecolor\": \"#2a3f5f\", \"gridcolor\": \"white\", \"linecolor\": \"white\", \"minorgridcolor\": \"white\", \"startlinecolor\": \"#2a3f5f\"}, \"type\": \"carpet\"}], \"choropleth\": [{\"colorbar\": {\"outlinewidth\": 0, \"ticks\": \"\"}, \"type\": \"choropleth\"}], \"contour\": [{\"colorbar\": {\"outlinewidth\": 0, \"ticks\": \"\"}, \"colorscale\": [[0.0, \"#0d0887\"], [0.1111111111111111, \"#46039f\"], [0.2222222222222222, \"#7201a8\"], [0.3333333333333333, \"#9c179e\"], [0.4444444444444444, \"#bd3786\"], [0.5555555555555556, \"#d8576b\"], [0.6666666666666666, \"#ed7953\"], [0.7777777777777778, \"#fb9f3a\"], [0.8888888888888888, \"#fdca26\"], [1.0, \"#f0f921\"]], \"type\": \"contour\"}], \"contourcarpet\": [{\"colorbar\": {\"outlinewidth\": 0, \"ticks\": \"\"}, \"type\": \"contourcarpet\"}], \"heatmap\": [{\"colorbar\": {\"outlinewidth\": 0, \"ticks\": \"\"}, \"colorscale\": [[0.0, \"#0d0887\"], [0.1111111111111111, \"#46039f\"], [0.2222222222222222, \"#7201a8\"], [0.3333333333333333, \"#9c179e\"], [0.4444444444444444, \"#bd3786\"], [0.5555555555555556, \"#d8576b\"], [0.6666666666666666, \"#ed7953\"], [0.7777777777777778, \"#fb9f3a\"], [0.8888888888888888, \"#fdca26\"], [1.0, \"#f0f921\"]], \"type\": \"heatmap\"}], \"heatmapgl\": [{\"colorbar\": {\"outlinewidth\": 0, \"ticks\": \"\"}, \"colorscale\": [[0.0, \"#0d0887\"], [0.1111111111111111, \"#46039f\"], [0.2222222222222222, \"#7201a8\"], [0.3333333333333333, \"#9c179e\"], [0.4444444444444444, \"#bd3786\"], [0.5555555555555556, \"#d8576b\"], [0.6666666666666666, \"#ed7953\"], [0.7777777777777778, \"#fb9f3a\"], [0.8888888888888888, \"#fdca26\"], [1.0, \"#f0f921\"]], \"type\": \"heatmapgl\"}], \"histogram\": [{\"marker\": {\"colorbar\": {\"outlinewidth\": 0, \"ticks\": \"\"}}, \"type\": \"histogram\"}], \"histogram2d\": [{\"colorbar\": {\"outlinewidth\": 0, \"ticks\": \"\"}, \"colorscale\": [[0.0, \"#0d0887\"], [0.1111111111111111, \"#46039f\"], [0.2222222222222222, \"#7201a8\"], [0.3333333333333333, \"#9c179e\"], [0.4444444444444444, \"#bd3786\"], [0.5555555555555556, \"#d8576b\"], [0.6666666666666666, \"#ed7953\"], [0.7777777777777778, \"#fb9f3a\"], [0.8888888888888888, \"#fdca26\"], [1.0, \"#f0f921\"]], \"type\": \"histogram2d\"}], \"histogram2dcontour\": [{\"colorbar\": {\"outlinewidth\": 0, \"ticks\": \"\"}, \"colorscale\": [[0.0, \"#0d0887\"], [0.1111111111111111, \"#46039f\"], [0.2222222222222222, \"#7201a8\"], [0.3333333333333333, \"#9c179e\"], [0.4444444444444444, \"#bd3786\"], [0.5555555555555556, \"#d8576b\"], [0.6666666666666666, \"#ed7953\"], [0.7777777777777778, \"#fb9f3a\"], [0.8888888888888888, \"#fdca26\"], [1.0, \"#f0f921\"]], \"type\": \"histogram2dcontour\"}], \"mesh3d\": [{\"colorbar\": {\"outlinewidth\": 0, \"ticks\": \"\"}, \"type\": \"mesh3d\"}], \"parcoords\": [{\"line\": {\"colorbar\": {\"outlinewidth\": 0, \"ticks\": \"\"}}, \"type\": \"parcoords\"}], \"pie\": [{\"automargin\": true, \"type\": \"pie\"}], \"scatter\": [{\"marker\": {\"colorbar\": {\"outlinewidth\": 0, \"ticks\": \"\"}}, \"type\": \"scatter\"}], \"scatter3d\": [{\"line\": {\"colorbar\": {\"outlinewidth\": 0, \"ticks\": \"\"}}, \"marker\": {\"colorbar\": {\"outlinewidth\": 0, \"ticks\": \"\"}}, \"type\": \"scatter3d\"}], \"scattercarpet\": [{\"marker\": {\"colorbar\": {\"outlinewidth\": 0, \"ticks\": \"\"}}, \"type\": \"scattercarpet\"}], \"scattergeo\": [{\"marker\": {\"colorbar\": {\"outlinewidth\": 0, \"ticks\": \"\"}}, \"type\": \"scattergeo\"}], \"scattergl\": [{\"marker\": {\"colorbar\": {\"outlinewidth\": 0, \"ticks\": \"\"}}, \"type\": \"scattergl\"}], \"scattermapbox\": [{\"marker\": {\"colorbar\": {\"outlinewidth\": 0, \"ticks\": \"\"}}, \"type\": \"scattermapbox\"}], \"scatterpolar\": [{\"marker\": {\"colorbar\": {\"outlinewidth\": 0, \"ticks\": \"\"}}, \"type\": \"scatterpolar\"}], \"scatterpolargl\": [{\"marker\": {\"colorbar\": {\"outlinewidth\": 0, \"ticks\": \"\"}}, \"type\": \"scatterpolargl\"}], \"scatterternary\": [{\"marker\": {\"colorbar\": {\"outlinewidth\": 0, \"ticks\": \"\"}}, \"type\": \"scatterternary\"}], \"surface\": [{\"colorbar\": {\"outlinewidth\": 0, \"ticks\": \"\"}, \"colorscale\": [[0.0, \"#0d0887\"], [0.1111111111111111, \"#46039f\"], [0.2222222222222222, \"#7201a8\"], [0.3333333333333333, \"#9c179e\"], [0.4444444444444444, \"#bd3786\"], [0.5555555555555556, \"#d8576b\"], [0.6666666666666666, \"#ed7953\"], [0.7777777777777778, \"#fb9f3a\"], [0.8888888888888888, \"#fdca26\"], [1.0, \"#f0f921\"]], \"type\": \"surface\"}], \"table\": [{\"cells\": {\"fill\": {\"color\": \"#EBF0F8\"}, \"line\": {\"color\": \"white\"}}, \"header\": {\"fill\": {\"color\": \"#C8D4E3\"}, \"line\": {\"color\": \"white\"}}, \"type\": \"table\"}]}, \"layout\": {\"annotationdefaults\": {\"arrowcolor\": \"#2a3f5f\", \"arrowhead\": 0, \"arrowwidth\": 1}, \"coloraxis\": {\"colorbar\": {\"outlinewidth\": 0, \"ticks\": \"\"}}, \"colorscale\": {\"diverging\": [[0, \"#8e0152\"], [0.1, \"#c51b7d\"], [0.2, \"#de77ae\"], [0.3, \"#f1b6da\"], [0.4, \"#fde0ef\"], [0.5, \"#f7f7f7\"], [0.6, \"#e6f5d0\"], [0.7, \"#b8e186\"], [0.8, \"#7fbc41\"], [0.9, \"#4d9221\"], [1, \"#276419\"]], \"sequential\": [[0.0, \"#0d0887\"], [0.1111111111111111, \"#46039f\"], [0.2222222222222222, \"#7201a8\"], [0.3333333333333333, \"#9c179e\"], [0.4444444444444444, \"#bd3786\"], [0.5555555555555556, \"#d8576b\"], [0.6666666666666666, \"#ed7953\"], [0.7777777777777778, \"#fb9f3a\"], [0.8888888888888888, \"#fdca26\"], [1.0, \"#f0f921\"]], \"sequentialminus\": [[0.0, \"#0d0887\"], [0.1111111111111111, \"#46039f\"], [0.2222222222222222, \"#7201a8\"], [0.3333333333333333, \"#9c179e\"], [0.4444444444444444, \"#bd3786\"], [0.5555555555555556, \"#d8576b\"], [0.6666666666666666, \"#ed7953\"], [0.7777777777777778, \"#fb9f3a\"], [0.8888888888888888, \"#fdca26\"], [1.0, \"#f0f921\"]]}, \"colorway\": [\"#636efa\", \"#EF553B\", \"#00cc96\", \"#ab63fa\", \"#FFA15A\", \"#19d3f3\", \"#FF6692\", \"#B6E880\", \"#FF97FF\", \"#FECB52\"], \"font\": {\"color\": \"#2a3f5f\"}, \"geo\": {\"bgcolor\": \"white\", \"lakecolor\": \"white\", \"landcolor\": \"#E5ECF6\", \"showlakes\": true, \"showland\": true, \"subunitcolor\": \"white\"}, \"hoverlabel\": {\"align\": \"left\"}, \"hovermode\": \"closest\", \"mapbox\": {\"style\": \"light\"}, \"paper_bgcolor\": \"white\", \"plot_bgcolor\": \"#E5ECF6\", \"polar\": {\"angularaxis\": {\"gridcolor\": \"white\", \"linecolor\": \"white\", \"ticks\": \"\"}, \"bgcolor\": \"#E5ECF6\", \"radialaxis\": {\"gridcolor\": \"white\", \"linecolor\": \"white\", \"ticks\": \"\"}}, \"scene\": {\"xaxis\": {\"backgroundcolor\": \"#E5ECF6\", \"gridcolor\": \"white\", \"gridwidth\": 2, \"linecolor\": \"white\", \"showbackground\": true, \"ticks\": \"\", \"zerolinecolor\": \"white\"}, \"yaxis\": {\"backgroundcolor\": \"#E5ECF6\", \"gridcolor\": \"white\", \"gridwidth\": 2, \"linecolor\": \"white\", \"showbackground\": true, \"ticks\": \"\", \"zerolinecolor\": \"white\"}, \"zaxis\": {\"backgroundcolor\": \"#E5ECF6\", \"gridcolor\": \"white\", \"gridwidth\": 2, \"linecolor\": \"white\", \"showbackground\": true, \"ticks\": \"\", \"zerolinecolor\": \"white\"}}, \"shapedefaults\": {\"line\": {\"color\": \"#2a3f5f\"}}, \"ternary\": {\"aaxis\": {\"gridcolor\": \"white\", \"linecolor\": \"white\", \"ticks\": \"\"}, \"baxis\": {\"gridcolor\": \"white\", \"linecolor\": \"white\", \"ticks\": \"\"}, \"bgcolor\": \"#E5ECF6\", \"caxis\": {\"gridcolor\": \"white\", \"linecolor\": \"white\", \"ticks\": \"\"}}, \"title\": {\"x\": 0.05}, \"xaxis\": {\"automargin\": true, \"gridcolor\": \"white\", \"linecolor\": \"white\", \"ticks\": \"\", \"title\": {\"standoff\": 15}, \"zerolinecolor\": \"white\", \"zerolinewidth\": 2}, \"yaxis\": {\"automargin\": true, \"gridcolor\": \"white\", \"linecolor\": \"white\", \"ticks\": \"\", \"title\": {\"standoff\": 15}, \"zerolinecolor\": \"white\", \"zerolinewidth\": 2}}}, \"xaxis\": {\"anchor\": \"y\", \"domain\": [0.0, 1.0], \"title\": {\"text\": \"x\"}}, \"yaxis\": {\"anchor\": \"x\", \"domain\": [0.0, 1.0], \"title\": {\"text\": \"y\"}}},\n",
       "                        {\"responsive\": true}\n",
       "                    ).then(function(){\n",
       "                            \n",
       "var gd = document.getElementById('9c0b827b-b650-4b5c-a3db-0f94c3bbe6aa');\n",
       "var x = new MutationObserver(function (mutations, observer) {{\n",
       "        var display = window.getComputedStyle(gd).display;\n",
       "        if (!display || display === 'none') {{\n",
       "            console.log([gd, 'removed!']);\n",
       "            Plotly.purge(gd);\n",
       "            observer.disconnect();\n",
       "        }}\n",
       "}});\n",
       "\n",
       "// Listen for the removal of the full notebook cells\n",
       "var notebookContainer = gd.closest('#notebook-container');\n",
       "if (notebookContainer) {{\n",
       "    x.observe(notebookContainer, {childList: true});\n",
       "}}\n",
       "\n",
       "// Listen for the clearing of the current output cell\n",
       "var outputEl = gd.closest('.output');\n",
       "if (outputEl) {{\n",
       "    x.observe(outputEl, {childList: true});\n",
       "}}\n",
       "\n",
       "                        })\n",
       "                };\n",
       "                });\n",
       "            </script>\n",
       "        </div>"
      ]
     },
     "metadata": {},
     "output_type": "display_data"
    }
   ],
   "source": [
    "year_count = plot_completeness(mens_only, 'Mens')\n",
    "pxe.scatter(x=year_count.index, y=year_count.values)"
   ]
  },
  {
   "cell_type": "code",
   "execution_count": 55,
   "metadata": {},
   "outputs": [
    {
     "data": {
      "text/plain": [
       "3    13149\n",
       "2      149\n",
       "1       37\n",
       "0        6\n",
       "4        2\n",
       "Name: sets_winner, dtype: int64"
      ]
     },
     "execution_count": 55,
     "metadata": {},
     "output_type": "execute_result"
    }
   ],
   "source": [
    "summarised['sets_winner'].value_counts()"
   ]
  },
  {
   "cell_type": "code",
   "execution_count": 56,
   "metadata": {},
   "outputs": [
    {
     "data": {
      "text/plain": [
       "R Federer         68\n",
       "J Connors         65\n",
       "B Becker          59\n",
       "S Smith           53\n",
       "N Djokovic        52\n",
       "                  ..\n",
       "R Trebor           1\n",
       "Ernst Buchholz     1\n",
       "Ody Koopman        1\n",
       "L Palin            1\n",
       "T Graham           1\n",
       "Name: winner, Length: 2928, dtype: int64"
      ]
     },
     "execution_count": 56,
     "metadata": {},
     "output_type": "execute_result"
    }
   ],
   "source": [
    "summarised['winner'].value_counts()"
   ]
  },
  {
   "cell_type": "code",
   "execution_count": 57,
   "metadata": {},
   "outputs": [
    {
     "data": {
      "text/plain": [
       "first round      6455\n",
       "second round     3554\n",
       "third round      1747\n",
       "fourth round      841\n",
       "quarterfinals     526\n",
       "semifinals        261\n",
       "final             132\n",
       "Name: round, dtype: int64"
      ]
     },
     "execution_count": 57,
     "metadata": {},
     "output_type": "execute_result"
    }
   ],
   "source": [
    "summarised['round'].value_counts()"
   ]
  },
  {
   "cell_type": "code",
   "execution_count": 61,
   "metadata": {},
   "outputs": [
    {
     "data": {
      "text/html": [
       "<div>\n",
       "<style scoped>\n",
       "    .dataframe tbody tr th:only-of-type {\n",
       "        vertical-align: middle;\n",
       "    }\n",
       "\n",
       "    .dataframe tbody tr th {\n",
       "        vertical-align: top;\n",
       "    }\n",
       "\n",
       "    .dataframe thead th {\n",
       "        text-align: right;\n",
       "    }\n",
       "</style>\n",
       "<table border=\"1\" class=\"dataframe\">\n",
       "  <thead>\n",
       "    <tr style=\"text-align: right;\">\n",
       "      <th></th>\n",
       "      <th>match</th>\n",
       "      <th>year</th>\n",
       "      <th>round</th>\n",
       "      <th>round_number</th>\n",
       "      <th>games_loser</th>\n",
       "      <th>games_winner</th>\n",
       "      <th>loser</th>\n",
       "      <th>sets_loser</th>\n",
       "      <th>sets_winner</th>\n",
       "      <th>winner</th>\n",
       "    </tr>\n",
       "  </thead>\n",
       "  <tbody>\n",
       "    <tr>\n",
       "      <th>1</th>\n",
       "      <td>1</td>\n",
       "      <td>1877</td>\n",
       "      <td>first round</td>\n",
       "      <td>1</td>\n",
       "      <td>5</td>\n",
       "      <td>18</td>\n",
       "      <td>Henry T Gillson</td>\n",
       "      <td>0</td>\n",
       "      <td>3</td>\n",
       "      <td>Spencer Gore</td>\n",
       "    </tr>\n",
       "    <tr>\n",
       "      <th>875</th>\n",
       "      <td>2</td>\n",
       "      <td>1877</td>\n",
       "      <td>first round</td>\n",
       "      <td>1</td>\n",
       "      <td>14</td>\n",
       "      <td>21</td>\n",
       "      <td>Robert Dalby</td>\n",
       "      <td>1</td>\n",
       "      <td>3</td>\n",
       "      <td>Montague Hankey</td>\n",
       "    </tr>\n",
       "    <tr>\n",
       "      <th>1606</th>\n",
       "      <td>3</td>\n",
       "      <td>1877</td>\n",
       "      <td>first round</td>\n",
       "      <td>1</td>\n",
       "      <td>5</td>\n",
       "      <td>18</td>\n",
       "      <td>John William  Trist</td>\n",
       "      <td>0</td>\n",
       "      <td>3</td>\n",
       "      <td>John Baker</td>\n",
       "    </tr>\n",
       "    <tr>\n",
       "      <th>2813</th>\n",
       "      <td>5</td>\n",
       "      <td>1877</td>\n",
       "      <td>first round</td>\n",
       "      <td>1</td>\n",
       "      <td>9</td>\n",
       "      <td>18</td>\n",
       "      <td>H Wheeler</td>\n",
       "      <td>0</td>\n",
       "      <td>3</td>\n",
       "      <td>Lestocq Robert Erskine</td>\n",
       "    </tr>\n",
       "    <tr>\n",
       "      <th>3284</th>\n",
       "      <td>6</td>\n",
       "      <td>1877</td>\n",
       "      <td>first round</td>\n",
       "      <td>1</td>\n",
       "      <td>11</td>\n",
       "      <td>18</td>\n",
       "      <td>Henry Soden</td>\n",
       "      <td>0</td>\n",
       "      <td>3</td>\n",
       "      <td>J Lambert</td>\n",
       "    </tr>\n",
       "    <tr>\n",
       "      <th>...</th>\n",
       "      <td>...</td>\n",
       "      <td>...</td>\n",
       "      <td>...</td>\n",
       "      <td>...</td>\n",
       "      <td>...</td>\n",
       "      <td>...</td>\n",
       "      <td>...</td>\n",
       "      <td>...</td>\n",
       "      <td>...</td>\n",
       "      <td>...</td>\n",
       "    </tr>\n",
       "    <tr>\n",
       "      <th>2212</th>\n",
       "      <td>3</td>\n",
       "      <td>2019</td>\n",
       "      <td>quarterfinals</td>\n",
       "      <td>5</td>\n",
       "      <td>9</td>\n",
       "      <td>19</td>\n",
       "      <td>Sam Querrey</td>\n",
       "      <td>0</td>\n",
       "      <td>3</td>\n",
       "      <td>Rafael Nadal</td>\n",
       "    </tr>\n",
       "    <tr>\n",
       "      <th>2810</th>\n",
       "      <td>4</td>\n",
       "      <td>2019</td>\n",
       "      <td>quarterfinals</td>\n",
       "      <td>5</td>\n",
       "      <td>15</td>\n",
       "      <td>22</td>\n",
       "      <td>Kei Nishikori</td>\n",
       "      <td>1</td>\n",
       "      <td>3</td>\n",
       "      <td>Roger Federer</td>\n",
       "    </tr>\n",
       "    <tr>\n",
       "      <th>873</th>\n",
       "      <td>1</td>\n",
       "      <td>2019</td>\n",
       "      <td>semifinals</td>\n",
       "      <td>6</td>\n",
       "      <td>13</td>\n",
       "      <td>22</td>\n",
       "      <td>Roberto Bautista Agut</td>\n",
       "      <td>1</td>\n",
       "      <td>3</td>\n",
       "      <td>Novak Djokovic</td>\n",
       "    </tr>\n",
       "    <tr>\n",
       "      <th>1604</th>\n",
       "      <td>2</td>\n",
       "      <td>2019</td>\n",
       "      <td>semifinals</td>\n",
       "      <td>6</td>\n",
       "      <td>19</td>\n",
       "      <td>20</td>\n",
       "      <td>Rafael Nadal</td>\n",
       "      <td>1</td>\n",
       "      <td>3</td>\n",
       "      <td>Roger Federer</td>\n",
       "    </tr>\n",
       "    <tr>\n",
       "      <th>868</th>\n",
       "      <td>1</td>\n",
       "      <td>2019</td>\n",
       "      <td>final</td>\n",
       "      <td>7</td>\n",
       "      <td>36</td>\n",
       "      <td>32</td>\n",
       "      <td>Roger Federer</td>\n",
       "      <td>2</td>\n",
       "      <td>3</td>\n",
       "      <td>Novak Djokovic</td>\n",
       "    </tr>\n",
       "  </tbody>\n",
       "</table>\n",
       "<p>13516 rows × 10 columns</p>\n",
       "</div>"
      ],
      "text/plain": [
       "      match  year          round  round_number games_loser games_winner  \\\n",
       "1         1  1877    first round             1           5           18   \n",
       "875       2  1877    first round             1          14           21   \n",
       "1606      3  1877    first round             1           5           18   \n",
       "2813      5  1877    first round             1           9           18   \n",
       "3284      6  1877    first round             1          11           18   \n",
       "...     ...   ...            ...           ...         ...          ...   \n",
       "2212      3  2019  quarterfinals             5           9           19   \n",
       "2810      4  2019  quarterfinals             5          15           22   \n",
       "873       1  2019     semifinals             6          13           22   \n",
       "1604      2  2019     semifinals             6          19           20   \n",
       "868       1  2019          final             7          36           32   \n",
       "\n",
       "                      loser sets_loser sets_winner                  winner  \n",
       "1           Henry T Gillson          0           3            Spencer Gore  \n",
       "875            Robert Dalby          1           3         Montague Hankey  \n",
       "1606    John William  Trist          0           3              John Baker  \n",
       "2813              H Wheeler          0           3  Lestocq Robert Erskine  \n",
       "3284            Henry Soden          0           3               J Lambert  \n",
       "...                     ...        ...         ...                     ...  \n",
       "2212            Sam Querrey          0           3            Rafael Nadal  \n",
       "2810          Kei Nishikori          1           3           Roger Federer  \n",
       "873   Roberto Bautista Agut          1           3          Novak Djokovic  \n",
       "1604           Rafael Nadal          1           3           Roger Federer  \n",
       "868           Roger Federer          2           3          Novak Djokovic  \n",
       "\n",
       "[13516 rows x 10 columns]"
      ]
     },
     "execution_count": 61,
     "metadata": {},
     "output_type": "execute_result"
    }
   ],
   "source": [
    "summarised"
   ]
  },
  {
   "cell_type": "code",
   "execution_count": null,
   "metadata": {},
   "outputs": [],
   "source": []
  }
 ],
 "metadata": {
  "kernelspec": {
   "display_name": "Python 3",
   "language": "python",
   "name": "python3"
  },
  "language_info": {
   "codemirror_mode": {
    "name": "ipython",
    "version": 3
   },
   "file_extension": ".py",
   "mimetype": "text/x-python",
   "name": "python",
   "nbconvert_exporter": "python",
   "pygments_lexer": "ipython3",
   "version": "3.7.7"
  }
 },
 "nbformat": 4,
 "nbformat_minor": 4
}
